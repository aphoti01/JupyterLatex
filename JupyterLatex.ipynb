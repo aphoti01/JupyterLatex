{
 "cells": [
  {
   "cell_type": "markdown",
   "metadata": {},
   "source": [
    "# Sync your Juputer notebook with your Latex project"
   ]
  },
  {
   "cell_type": "markdown",
   "metadata": {},
   "source": [
    "Interactive notebooks such as Jupyter and Google Colab are getting more and more popular recently. This is due to their simplicity, power and friendly user interface. As a result, they are being extensively used in scientific writing. Through this guide I am going to present some easy steps that will help to automate the transfer of information between notebooks and Latex. \n",
    "\n",
    "What you need:\n",
    "* Jupyter\n",
    "* Github account\n",
    "\n",
    "Throughout this guide I am using a regression example. Scientists are known to play around with different regression specifications which makes the transfer of the results very time consuming or, on the other hand a source of miscommunication between teams that work on the same project. Additionally, the final part will outline the process of automatically writing regression equations based on the used features in order to avoid mistakes and speed up the process.\n",
    "\n",
    "The idea is to use functions that automatically print information in Latex format."
   ]
  },
  {
   "cell_type": "markdown",
   "metadata": {},
   "source": [
    "## Step 1\n",
    "* Create a new GitHub project.\n",
    "* Clone the GitHub directory locally.\n",
    "* Copy or create a new Latex project in the cloned directory.\n",
    "\n",
    "Sample .tex file:"
   ]
  },
  {
   "cell_type": "raw",
   "metadata": {},
   "source": [
    "\\documentclass{article}\n",
    "\\usepackage[utf8]{inputenc}\n",
    "\n",
    "\\title{Jupyter}\n",
    "\\author{Antonis Photiou}\n",
    "\\date{September 2020}\n",
    "\n",
    "\\usepackage{natbib}\n",
    "\\usepackage{graphicx}\n",
    "\n",
    "\\begin{document}\n",
    "\n",
    "\\maketitle\n",
    "\n",
    "\\section{Introduction}\n",
    "There is a theory which states that if ever anyone discovers exactly what the Universe is for and why it is here, it will instantly disappear and be replaced by something even more bizarre and inexplicable.\n",
    "There is another theory which states that this has already happened.\n",
    "\n",
    "\\section{Results}\n",
    "\n",
    "\\bibliographystyle{plain}\n",
    "\\bibliography{references}\n",
    "\\end{document}"
   ]
  },
  {
   "cell_type": "markdown",
   "metadata": {},
   "source": [
    "## Step 2\n",
    "* Create a Jupyter notebook in the cloned directory.\n",
    "* Load packages\n",
    "* Run the analysis and use the helper function -print_results- to print the results in Latex format."
   ]
  },
  {
   "cell_type": "code",
   "execution_count": 3,
   "metadata": {},
   "outputs": [],
   "source": [
    "import statsmodels.api as sm\n",
    "import pdfkit\n",
    "from IPython.display import Markdown as md\n",
    "from bs4 import BeautifulSoup\n",
    "import pandas as pd\n",
    "\n",
    "import warnings\n",
    "warnings.filterwarnings('ignore')"
   ]
  },
  {
   "cell_type": "code",
   "execution_count": 15,
   "metadata": {},
   "outputs": [],
   "source": [
    "def print_results(model, task = ''):\n",
    "    print('\\subsection{}'.format(task))\n",
    "    results_summary = model.summary()\n",
    "\n",
    "    results_as_html = results_summary.tables[0].as_html()\n",
    "    print(pd.read_html(results_as_html, header=0, index_col=0)[0].to_latex())\n",
    "    \n",
    "    results_as_html = results_summary.tables[1].as_html()\n",
    "    res = pd.read_html(results_as_html, header=0, index_col=0)[0]\n",
    "    if 'z' in res.columns:\n",
    "        res = res[['coef', 'std err', 'z', 'P>|z|']]\n",
    "        res.columns = ['coef', 'std err', 'z', 'P-value']\n",
    "    else: \n",
    "        res = res[['coef', 'std err', 't', 'P>|t|']]\n",
    "        res.columns = ['coef', 'std err', 't', 'P-value']\n",
    "    print(res.to_latex())"
   ]
  },
  {
   "cell_type": "code",
   "execution_count": 4,
   "metadata": {},
   "outputs": [],
   "source": [
    "data = pd.read_csv('sample.csv')"
   ]
  },
  {
   "cell_type": "code",
   "execution_count": 9,
   "metadata": {},
   "outputs": [],
   "source": [
    "cols = ['char_count', 'word_count', 'word_density', 'punctuation_count', 'title_word_count']\n",
    "y = 'retweet_count'"
   ]
  },
  {
   "cell_type": "code",
   "execution_count": 11,
   "metadata": {},
   "outputs": [],
   "source": [
    "model = sm.OLS.from_formula('{} ~ {}'.format(y, '+'.join(cols)), data=data[cols+[y]].dropna()).fit()"
   ]
  },
  {
   "cell_type": "code",
   "execution_count": 16,
   "metadata": {},
   "outputs": [
    {
     "name": "stdout",
     "output_type": "stream",
     "text": [
      "\\subsectionRegression 1\n",
      "\\begin{tabular}{lllr}\n",
      "\\toprule\n",
      "{} &     retweet\\_count &           R-squared: &        0.009 \\\\\n",
      "Dep. Variable:    &                   &                      &              \\\\\n",
      "\\midrule\n",
      "Model:            &               OLS &      Adj. R-squared: &        0.009 \\\\\n",
      "Method:           &     Least Squares &         F-statistic: &      377.200 \\\\\n",
      "Date:             &  Mon, 28 Sep 2020 &  Prob (F-statistic): &        0.000 \\\\\n",
      "Time:             &          12:25:07 &      Log-Likelihood: & -2166100.000 \\\\\n",
      "No. Observations: &            200000 &                 AIC: &  4332000.000 \\\\\n",
      "Df Residuals:     &            199994 &                 BIC: &  4332000.000 \\\\\n",
      "Df Model:         &                 5 &                  NaN &          NaN \\\\\n",
      "Covariance Type:  &         nonrobust &                  NaN &          NaN \\\\\n",
      "\\bottomrule\n",
      "\\end{tabular}\n",
      "\n",
      "\\begin{tabular}{lrrrr}\n",
      "\\toprule\n",
      "{} &        coef &  std err &       t &  P-value \\\\\n",
      "\\midrule\n",
      "Intercept         &  12200.0000 &  338.890 &  36.008 &      0.0 \\\\\n",
      "char\\_count        &     25.6904 &    1.959 &  13.112 &      0.0 \\\\\n",
      "word\\_count        &   -154.3111 &   10.129 & -15.234 &      0.0 \\\\\n",
      "word\\_density      &  -1907.3959 &   65.055 & -29.320 &      0.0 \\\\\n",
      "punctuation\\_count &    -43.6311 &    5.395 &  -8.088 &      0.0 \\\\\n",
      "title\\_word\\_count  &    -67.5962 &    8.512 &  -7.941 &      0.0 \\\\\n",
      "\\bottomrule\n",
      "\\end{tabular}\n",
      "\n"
     ]
    }
   ],
   "source": [
    "print_results(model, 'Regression 1')"
   ]
  },
  {
   "cell_type": "markdown",
   "metadata": {},
   "source": [
    "## Step 3\n",
    "Transform the notebook output into a .tex file.\n",
    "1. Use nbconvert to convert into html\n",
    "2. Filter out input cells\n",
    "3. Use BeautifulSoup to find all the cells that print output\n",
    "4. Write output to a .tex file. (Since the printed output follows the Latex format there is no need for a converter"
   ]
  },
  {
   "cell_type": "code",
   "execution_count": 17,
   "metadata": {},
   "outputs": [
    {
     "name": "stdout",
     "output_type": "stream",
     "text": [
      "[NbConvertApp] Converting notebook JupyterLatex.ipynb to html\n",
      "[NbConvertApp] Writing 286042 bytes to JupyterLatex.html\n"
     ]
    }
   ],
   "source": [
    "!jupyter nbconvert JupyterLatex.ipynb --to html"
   ]
  },
  {
   "cell_type": "code",
   "execution_count": 21,
   "metadata": {},
   "outputs": [],
   "source": [
    "FILE = \"JupyterLatex.html\"\n",
    "directory = ''\n",
    "output = directory+'output.tex'\n",
    "\n",
    "with open(FILE, 'r') as html_file:\n",
    "    content = html_file.read()\n",
    "\n",
    "content = content.replace(\"div.input_area {\",\"div.input_area {\\n\\tdisplay: none;\")    \n",
    "content = content.replace(\".prompt {\",\".prompt {\\n\\tdisplay: none;\")"
   ]
  },
  {
   "cell_type": "code",
   "execution_count": 22,
   "metadata": {},
   "outputs": [],
   "source": [
    "soup = BeautifulSoup(content)\n",
    "\n",
    "s = ''\n",
    "for i in soup.find_all('div',{'class':'output_subarea output_stream output_stdout output_text'}):\n",
    "    s+=i.text.split('Warnings')[0]\n",
    "\n",
    "text_file = open(output, \"w\")\n",
    "n = text_file.write(s)\n",
    "text_file.close()"
   ]
  },
  {
   "cell_type": "markdown",
   "metadata": {},
   "source": [
    "## Step 4\n",
    "Tweak the main.tex file to include the results."
   ]
  },
  {
   "cell_type": "raw",
   "metadata": {},
   "source": [
    "\\documentclass{article}\n",
    "\\usepackage[utf8]{inputenc}\n",
    "\n",
    "\\title{Jupyter}\n",
    "\\author{Antonis Photiou}\n",
    "\\date{September 2020}\n",
    "\n",
    "\\usepackage{natbib}\n",
    "\\usepackage{graphicx}\n",
    "\n",
    "\\begin{document}\n",
    "\n",
    "\\maketitle\n",
    "\n",
    "\\section{Introduction}\n",
    "There is a theory which states that if ever anyone discovers exactly what the Universe is for and why it is here, it will instantly disappear and be replaced by something even more bizarre and inexplicable.\n",
    "There is another theory which states that this has already happened.\n",
    "\n",
    "\\section{Results}\n",
    "\\subfile{output.tex}\n",
    "\n",
    "\\bibliographystyle{plain}\n",
    "\\bibliography{references}\n",
    "\\end{document}"
   ]
  },
  {
   "cell_type": "markdown",
   "metadata": {},
   "source": [
    "## Step 5\n",
    "Commit changes to GitHub. To be able to commit changes within the notebook, the notebook must be at the same directory as the project."
   ]
  },
  {
   "cell_type": "code",
   "execution_count": 24,
   "metadata": {},
   "outputs": [
    {
     "name": "stdout",
     "output_type": "stream",
     "text": [
      "Already up to date.\n",
      "[master e3f64b0] changes\n",
      " 2 files changed, 200046 insertions(+), 200002 deletions(-)\n",
      " rewrite sample.csv (87%)\n",
      "Enumerating objects: 7, done.\n",
      "Counting objects: 100% (7/7), done.\n",
      "Delta compression using up to 4 threads\n",
      "Compressing objects: 100% (4/4), done.\n",
      "Writing objects: 100% (4/4), 2.24 MiB | 711.00 KiB/s, done.\n",
      "Total 4 (delta 3), reused 0 (delta 0)\n",
      "remote: Resolving deltas: 100% (3/3), completed with 3 local objects.\u001b[K\n",
      "To https://github.com/aphoti01/JupyterLatex.git\n",
      "   cd01193..e3f64b0  master -> master\n"
     ]
    }
   ],
   "source": [
    "!git pull\n",
    "!git add .\n",
    "!git commit -m changes\n",
    "!git push"
   ]
  },
  {
   "cell_type": "code",
   "execution_count": null,
   "metadata": {},
   "outputs": [],
   "source": []
  }
 ],
 "metadata": {
  "kernelspec": {
   "display_name": "Python 3",
   "language": "python",
   "name": "python3"
  },
  "language_info": {
   "codemirror_mode": {
    "name": "ipython",
    "version": 3
   },
   "file_extension": ".py",
   "mimetype": "text/x-python",
   "name": "python",
   "nbconvert_exporter": "python",
   "pygments_lexer": "ipython3",
   "version": "3.7.4"
  }
 },
 "nbformat": 4,
 "nbformat_minor": 2
}
